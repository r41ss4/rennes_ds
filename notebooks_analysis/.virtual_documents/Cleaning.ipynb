# Import libs
import pandas as pd
import numpy as np
import seaborn as sb
import matplotlib.pyplot as plt 
from textblob import TextBlob


# Read df of products
df_prod = pd.read_csv('https://raw.githubusercontent.com/r41ss4/rennes_ds/refs/heads/main/data/raw/raw_products.csv')
df_prod.head(5)


# Review columns
df_prod.columns


# Read df of reviews
df_rev = pd.read_csv('https://raw.githubusercontent.com/r41ss4/rennes_ds/refs/heads/main/data/raw/raw_reviews.csv')
df_rev.head(5)


# Review columns
df_rev.columns





# Make a copy of clean_datan1 to clean
clean_datan1 = df_prod


# Review the data and how many rows have missing information in each columns
clean_datan1.isna().sum()


# select the categorical columns 
obj_columns = clean_datan1.select_dtypes(include=('object')).columns
# replace the missing value by the column Mode
for col in obj_columns :
    clean_datan1[col] = clean_datan1[col].fillna(clean_datan1[col].mode()[0])


# Review the data and how many rows have missing information in each columns
clean_datan1.isna().sum()


# select the numerical columns 
num_columns = clean_datan1.select_dtypes(include=('number')).columns
# replace the missing value by the column Mode
for col in num_columns :
    clean_datan1[col] = clean_datan1[col].fillna(clean_datan1[col].mean)


# Review the data and how many rows have missing information in each columns
clean_datan1.isna().sum()


# Save the cleaned dataset 2 ('clean_datan2')
clean_datan1.to_csv('clean_products.csv', index=False)





# Make a copy of clean_datan2 to clean
clean_datan2 = df_rev


# Review the data and how many rows have missing information in each columns
clean_datan1.isna().sum()


# Save the cleaned dataset 2 ('clean_datan2')
clean_datan2.to_csv('clean_reviews.csv', index=False)
